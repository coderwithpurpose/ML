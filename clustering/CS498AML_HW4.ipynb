{
 "cells": [
  {
   "cell_type": "code",
   "execution_count": 1,
   "metadata": {},
   "outputs": [],
   "source": [
    "import numpy as np\n",
    "\n",
    "def unpickle(file):\n",
    "#     print(file)\n",
    "    import cPickle\n",
    "    with open(file, 'rb') as fo:\n",
    "        dict = cPickle.load(fo)\n",
    "    return dict\n",
    "\n",
    "# setting up the data\n",
    "ground_data1 = unpickle(\"cifar-10-batches-py//data_batch_1\")  \n",
    "data1 = ground_data1[\"data\"] # (1000,3072) shape\n",
    "labels1 = ground_data1[\"labels\"] # (1000,1) shape \n",
    "ground_data2 = unpickle(\"cifar-10-batches-py//data_batch_2\")  \n",
    "data2 = ground_data2[\"data\"] # (1000,3072) shape\n",
    "labels2 = ground_data2[\"labels\"] # (1000,1) shape \n",
    "ground_data3 = unpickle(\"cifar-10-batches-py//data_batch_3\")  \n",
    "data3 = ground_data3[\"data\"] # (1000,3072) shape\n",
    "labels3 = ground_data3[\"labels\"] # (1000,1) shape \n",
    "ground_data4 = unpickle(\"cifar-10-batches-py//data_batch_4\")  \n",
    "data4 = ground_data4[\"data\"] # (1000,3072) shape\n",
    "labels4 = ground_data4[\"labels\"] # (1000,1) shape \n",
    "ground_data5 = unpickle(\"cifar-10-batches-py//data_batch_1\")  \n",
    "data5 = ground_data5[\"data\"] # (1000,3072) shape\n",
    "labels5 = ground_data5[\"labels\"] # (1000,1) shape "
   ]
  },
  {
   "cell_type": "code",
   "execution_count": 2,
   "metadata": {},
   "outputs": [],
   "source": [
    "# putting all data into one matrix \n",
    "labels = np.zeros((50000,1))\n",
    "data = np.zeros((50000,3072)) \n",
    "labels[:10000,0] = labels1[:]\n",
    "labels[10000:10000*2,0] = labels2[:]\n",
    "labels[10000*2:10000*3,0] = labels3[:]\n",
    "labels[10000*3:10000*4,0] = labels4[:]\n",
    "labels[10000*4:10000*5,0] = labels5[:]\n",
    "data[:10000,:] = data1[:,:]\n",
    "data[10000:10000*2,:] = data2[:,:]\n",
    "data[10000*2:10000*3,:] = data3[:,:]\n",
    "data[10000*3:10000*4,:] = data4[:,:]\n",
    "data[10000*4:10000*5,:] = data5[:,:]\n",
    "\n",
    "\n",
    "\n"
   ]
  },
  {
   "cell_type": "code",
   "execution_count": 7,
   "metadata": {},
   "outputs": [
    {
     "name": "stdout",
     "output_type": "stream",
     "text": [
      "[   29    30    35 ... 49983 49984 49985]\n",
      "[    4     5    32 ... 49993 49997 49998]\n",
      "[    6    13    18 ... 49989 49991 49992]\n",
      "[    9    17    21 ... 49976 49982 49995]\n",
      "[    3    10    20 ... 49962 49963 49967]\n",
      "[   27    40    51 ... 49948 49987 49999]\n",
      "[    0    19    22 ... 49978 49980 49994]\n",
      "[    7    11    12 ... 49958 49964 49981]\n",
      "[    8    62    69 ... 49960 49972 49975]\n",
      "[    1     2    14 ... 49971 49990 49996]\n",
      "[[144.97375275 143.8503306  144.45121218 ... 137.89821679 137.77739932\n",
      "  138.21859347]\n",
      " [137.30040323 136.88245968 138.09637097 ... 124.45846774 125.28366935\n",
      "  126.31935484]\n",
      " [125.39586614 125.38622047 126.60255906 ... 107.50177165 107.09291339\n",
      "  107.26732283]\n",
      " ...\n",
      " [136.87181529 135.43968949 136.19068471 ... 106.54000796 107.24840764\n",
      "  109.01214172]\n",
      " [146.88251693 146.06292314 146.9524094  ... 116.3964556  117.54121864\n",
      "  118.82297889]\n",
      " [168.76688849 168.09437387 168.81750353 ... 126.60657391 127.71163541\n",
      "  128.77838274]]\n"
     ]
    }
   ],
   "source": [
    "holder = np.zeros(3072)\n",
    "mean = np.zeros((10,3072))\n",
    "for i in range (0, 10): \n",
    "    idxs = (np.where(np.transpose(labels) == i)) \n",
    "    idxs = idxs[1]\n",
    "    print(idxs)\n",
    "    holder = np.zeros(3072)\n",
    "#     print(idxs)\n",
    "    l = len((idxs)) \n",
    "    for x in range (0,l):  \n",
    "        holder = holder + data[(idxs[x]),:]\n",
    "    holder = holder / l\n",
    "    mean[i,:] = holder\n",
    "print(mean)"
   ]
  },
  {
   "cell_type": "code",
   "execution_count": 8,
   "metadata": {},
   "outputs": [
    {
     "name": "stdout",
     "output_type": "stream",
     "text": [
      "('print indexes', array([   29,    30,    35, ..., 49983, 49984, 49985], dtype=int64))\n",
      "('shape pf scaled image', (4991L, 3072L))\n",
      "('length of indexes array', 4991)\n",
      "(4991L, 20L)\n",
      "((4991L, 3072L), 'recon shape')\n",
      "('print indexes', array([    4,     5,    32, ..., 49993, 49997, 49998], dtype=int64))\n",
      "('shape pf scaled image', (4960L, 3072L))\n",
      "('length of indexes array', 4960)\n",
      "(4960L, 20L)\n",
      "((4960L, 3072L), 'recon shape')\n",
      "('print indexes', array([    6,    13,    18, ..., 49989, 49991, 49992], dtype=int64))\n",
      "('shape pf scaled image', (5080L, 3072L))\n",
      "('length of indexes array', 5080)\n",
      "(5080L, 20L)\n",
      "((5080L, 3072L), 'recon shape')\n",
      "('print indexes', array([    9,    17,    21, ..., 49976, 49982, 49995], dtype=int64))\n",
      "('shape pf scaled image', (5000L, 3072L))\n",
      "('length of indexes array', 5000)\n",
      "(5000L, 20L)\n",
      "((5000L, 3072L), 'recon shape')\n",
      "('print indexes', array([    3,    10,    20, ..., 49962, 49963, 49967], dtype=int64))\n",
      "('shape pf scaled image', (5002L, 3072L))\n",
      "('length of indexes array', 5002)\n",
      "(5002L, 20L)\n",
      "((5002L, 3072L), 'recon shape')\n",
      "('print indexes', array([   27,    40,    51, ..., 49948, 49987, 49999], dtype=int64))\n",
      "('shape pf scaled image', (4912L, 3072L))\n",
      "('length of indexes array', 4912)\n",
      "(4912L, 20L)\n",
      "((4912L, 3072L), 'recon shape')\n",
      "('print indexes', array([    0,    19,    22, ..., 49978, 49980, 49994], dtype=int64))\n",
      "('shape pf scaled image', (5050L, 3072L))\n",
      "('length of indexes array', 5050)\n",
      "(5050L, 20L)\n",
      "((5050L, 3072L), 'recon shape')\n",
      "('print indexes', array([    7,    11,    12, ..., 49958, 49964, 49981], dtype=int64))\n",
      "('shape pf scaled image', (5024L, 3072L))\n",
      "('length of indexes array', 5024)\n",
      "(5024L, 20L)\n",
      "((5024L, 3072L), 'recon shape')\n",
      "('print indexes', array([    8,    62,    69, ..., 49960, 49972, 49975], dtype=int64))\n",
      "('shape pf scaled image', (5022L, 3072L))\n",
      "('length of indexes array', 5022)\n",
      "(5022L, 20L)\n",
      "((5022L, 3072L), 'recon shape')\n",
      "('print indexes', array([    1,     2,    14, ..., 49971, 49990, 49996], dtype=int64))\n",
      "('shape pf scaled image', (4959L, 3072L))\n",
      "('length of indexes array', 4959)\n",
      "(4959L, 20L)\n",
      "((4959L, 3072L), 'recon shape')\n"
     ]
    }
   ],
   "source": [
    "# compute cov + eig + mse for each category \n",
    "from numpy.linalg import eig\n",
    "from numpy import cov \n",
    "from sklearn.metrics import mean_squared_error\n",
    "img = np.zeros(3072)\n",
    "mse = np.zeros(10)\n",
    "for i in range (0, 10): \n",
    "    idx = (np.where(np.transpose(labels) == i)) \n",
    "    idx = idx[1]\n",
    "    print(\"print indexes\",idx)\n",
    "    scaled_img = np.zeros((len(idx),3072))\n",
    "    orig_img = np.zeros((len(idx),3072))\n",
    "    print(\"shape pf scaled image\",np.shape(scaled_img))\n",
    "    l = len((idx)) \n",
    "    print(\"length of indexes array\",l)\n",
    "    for x in range (0,l):  \n",
    "        orig_img[x,:] = data[(idx[x]),:]\n",
    "        scaled_img[x,:] = data[(idx[x]),:] - mean[i,:]\n",
    "    # after that find eig vals + vecs, proj + nrecion + mse \n",
    "    covmat = cov(scaled_img.T)\n",
    "    eigval,eigvecs = eig(covmat) \n",
    "    idxr = eigval.argsort()[::-1]   \n",
    "    e = eigval[idxr]\n",
    "    ev = eigvecs[:,idxr]\n",
    "    proj = np.dot(scaled_img,ev[:,:20])\n",
    "    print(np.shape(proj))\n",
    "    recon = np.dot(proj,np.transpose(ev[:,:20])) + mean[i][:] \n",
    "    print(np.shape(recon),\"recon shape\")\n",
    "#     mse[i] = np.mean((( orig_img - recon) ** 2).mean(axis = 0))\n",
    "    mse[i] = mean_squared_error(orig_img, recon)\n",
    "\n",
    "\n",
    "\n",
    "        \n"
   ]
  },
  {
   "cell_type": "code",
   "execution_count": 20,
   "metadata": {},
   "outputs": [
    {
     "name": "stdout",
     "output_type": "stream",
     "text": [
      "[ 852.33471049 1290.17232633  787.85831221 1004.98866278  710.85970247\n",
      " 1057.65516239  856.03020286 1111.86196418  795.35385442 1310.37781122]\n"
     ]
    },
    {
     "data": {
      "image/png": "[encoded data removed]",
      "text/plain": [
       "<Figure size 432x288 with 1 Axes>"
      ]
     },
     "metadata": {},
     "output_type": "display_data"
    }
   ],
   "source": [
    "%matplotlib inline  \n",
    "import matplotlib.pyplot as plt\n",
    "N = 10\n",
    "ind = np.arange(N)    # the x locations for the groups\n",
    "width = 0.35       # the width of the bars: can also be len(x) sequence\n",
    "p1 = plt.bar(ind, mse, width, color='#d62728')\n",
    "plt.ylabel('MSE')\n",
    "plt.xlabel(\"category number\")\n",
    "plt.title('MSE OF EACH CATEGORY')\n",
    "plt.xticks(ind, ('C0', 'C1', 'C2', 'C3', 'C4', 'C5', 'C6', 'C7', 'C8', 'C9'))\n",
    "print(mse)\n",
    "plt.show()\n"
   ]
  },
  {
   "cell_type": "code",
   "execution_count": 14,
   "metadata": {},
   "outputs": [
    {
     "name": "stdout",
     "output_type": "stream",
     "text": [
      "((3072L, 3072L), (3072L,))\n"
     ]
    }
   ],
   "source": [
    "# now we do part b using eicoldian distance between classes \n",
    "# we will compute eculdean distance amonf the mean images  \n"
   ]
  },
  {
   "cell_type": "code",
   "execution_count": 19,
   "metadata": {},
   "outputs": [
    {
     "data": {
      "image/png": "[encoded data removed]",
      "text/plain": [
       "<Figure size 432x288 with 1 Axes>"
      ]
     },
     "metadata": {},
     "output_type": "display_data"
    }
   ],
   "source": [
    "# computing mds using library \n",
    "from sklearn.manifold import MDS\n",
    "embedding = MDS(n_components=2)\n",
    "X_transformed = embedding.fit_transform(mean)\n",
    "x = X_transformed[:,0]\n",
    "y = X_transformed[:,1]\n",
    "plt.scatter(x,y) \n",
    "for i in range(0,10):\n",
    "    plt.annotate(indexes[i],xy=(x[i], y[i]),xycoords='data')\n",
    "plt.xlabel(\"X-axis\")\n",
    "plt.ylabel(\"Y-axis\")\n",
    "plt.title(\"PCoA over 10 category Mean Imeages Using Euclidean\")\n",
    "plt.show()"
   ]
  },
  {
   "cell_type": "code",
   "execution_count": 18,
   "metadata": {},
   "outputs": [
    {
     "data": {
      "image/png": "[encoded data removed]",
      "text/plain": [
       "<Figure size 432x288 with 1 Axes>"
      ]
     },
     "metadata": {},
     "output_type": "display_data"
    }
   ],
   "source": [
    "# print(X_transformed)\n",
    "x = X_transformed[:,0]\n",
    "y = X_transformed[:,1]\n",
    "# print(x,y)\n",
    "plt.scatter(x,y) \n",
    "# plt.axvspan(76, 76, facecolor='g', alpha=1)\n",
    "# plt.annotate('This is awesome!', \n",
    "#              xy=(76, 0.75),  \n",
    "#              xycoords='data',\n",
    "#              textcoords='offset points',\n",
    "#              arrowprops=dict(arrowstyle=\"->\"))\n",
    "# plt.show()\n",
    "for i in range(0,10):\n",
    "#     print(i)\n",
    "    plt.annotate(indexes[i],xy=(x[i], y[i]),xycoords='data')\n",
    "plt.xlabel(\"X-axis\")\n",
    "plt.ylabel(\"Y-axis\")\n",
    "plt.title(\"PCoA over 10 category Mean Imeages Using Euclidean\")\n",
    "plt.show()"
   ]
  },
  {
   "cell_type": "code",
   "execution_count": 14,
   "metadata": {},
   "outputs": [
    {
     "data": {
      "text/plain": [
       "['airplane',\n",
       " 'automobile',\n",
       " 'bird',\n",
       " 'cat',\n",
       " 'deer',\n",
       " 'dog',\n",
       " 'frog',\n",
       " 'horse',\n",
       " 'ship',\n",
       " 'truck']"
      ]
     },
     "execution_count": 14,
     "metadata": {},
     "output_type": "execute_result"
    }
   ],
   "source": [
    "meta = open('cifar-10-batches-py/batches.meta').read()\n",
    "ground_data0 = unpickle(\"cifar-10-batches-py//batches.meta\") \n",
    "indexes = ground_data0['label_names']\n",
    "indexes"
   ]
  },
  {
   "cell_type": "code",
   "execution_count": 83,
   "metadata": {},
   "outputs": [],
   "source": [
    "# # np.where(labels==1) \n",
    "# idxs = np.where(labels == 0) \n",
    "# arr0 = np.zeros((len(idxs[0]),3072)) \n",
    "# for i in range (0,len(idxs[0])): \n",
    "    \n",
    "# idxs = np.where(labels == 1) \n",
    "# arr1 = np.zeros((len(idxs[0]),3072))\n",
    "# idxs = np.where(labels == 2) \n",
    "# arr2 = np.zeros((len(idxs[0]),3072))\n",
    "# idxs = np.where(labels == 3) \n",
    "# arr3 = np.zeros((len(idxs[0]),3072))\n",
    "# idxs = np.where(labels == 4) \n",
    "# arr4 = np.zeros((len(idxs[0]),3072))\n",
    "# idxs = np.where(labels == 5) \n",
    "# arr5 = np.zeros((len(idxs[0]),3072))\n",
    "# idxs = np.where((len(idxs[0]),3072))\n",
    "# arr6 = np.zeros((len(idxs[0]),3072))\n",
    "# idxs = np.where(labels == 7) \n",
    "# arr7 = np.zeros((len(idxs[0]),3072))\n",
    "# idxs = np.where(labels == 8) \n",
    "# arr8 = np.zeros((len(idxs[0]),3072))\n",
    "# idxs = np.where(labels == 9) \n",
    "# arr9 = np.zeros((len(idxs[0]),3072))\n",
    "        \n",
    "        "
   ]
  },
  {
   "cell_type": "code",
   "execution_count": 38,
   "metadata": {},
   "outputs": [],
   "source": [
    "labels = labels.astype(int) \n",
    "data = data.astype(int)"
   ]
  },
  {
   "cell_type": "code",
   "execution_count": 84,
   "metadata": {},
   "outputs": [
    {
     "name": "stdout",
     "output_type": "stream",
     "text": [
      "[[6. 9. 9. ... 1. 1. 5.]]\n"
     ]
    },
    {
     "data": {
      "text/plain": [
       "array([[ 59.,  43.,  50., ..., 140.,  84.,  72.],\n",
       "       [154., 126., 105., ..., 139., 142., 144.],\n",
       "       [255., 253., 253., ...,  83.,  83.,  84.],\n",
       "       ...,\n",
       "       [ 71.,  60.,  74., ...,  68.,  69.,  68.],\n",
       "       [250., 254., 211., ..., 215., 255., 254.],\n",
       "       [ 62.,  61.,  60., ..., 130., 130., 131.]])"
      ]
     },
     "execution_count": 84,
     "metadata": {},
     "output_type": "execute_result"
    }
   ],
   "source": [
    "labels = np.transpose(labels)\n",
    "print(labels) \n",
    "data"
   ]
  },
  {
   "cell_type": "code",
   "execution_count": 85,
   "metadata": {},
   "outputs": [
    {
     "data": {
      "text/plain": [
       "(array([0, 0, 0, ..., 0, 0, 0], dtype=int64),\n",
       " array([    1,     2,    14, ..., 49971, 49990, 49996], dtype=int64))"
      ]
     },
     "execution_count": 85,
     "metadata": {},
     "output_type": "execute_result"
    }
   ],
   "source": [
    "np.where(labels == 9)\n"
   ]
  },
  {
   "cell_type": "code",
   "execution_count": 175,
   "metadata": {},
   "outputs": [
    {
     "name": "stdout",
     "output_type": "stream",
     "text": [
      "[144.97375275 143.8503306  144.45121218 ... 137.89821679 137.77739932\n",
      " 138.21859347]\n",
      "[137.30040323 136.88245968 138.09637097 ... 124.45846774 125.28366935\n",
      " 126.31935484]\n",
      "[125.39586614 125.38622047 126.60255906 ... 107.50177165 107.09291339\n",
      " 107.26732283]\n",
      "[121.8376 121.5458 122.5302 ... 113.1104 112.1806 111.9266]\n",
      "[106.7614954  106.92023191 108.13934426 ... 100.90903639 100.65053978\n",
      " 100.40583766]\n",
      "[107.98289902 107.20663681 108.11685668 ... 105.93973941 104.93485342\n",
      " 104.58387622]\n",
      "[114.5819802  113.79485149 114.51247525 ... 101.55168317 101.39960396\n",
      " 101.80613861]\n",
      "[136.87181529 135.43968949 136.19068471 ... 106.54000796 107.24840764\n",
      " 109.01214172]\n",
      "[146.88251693 146.06292314 146.9524094  ... 116.3964556  117.54121864\n",
      " 118.82297889]\n",
      "[168.76688849 168.09437387 168.81750353 ... 126.60657391 127.71163541\n",
      " 128.77838274]\n"
     ]
    }
   ],
   "source": []
  },
  {
   "cell_type": "code",
   "execution_count": null,
   "metadata": {},
   "outputs": [],
   "source": [
    "holder = np.zeros(3072)\n",
    "mean = np.zeros((10,3072))\n",
    "for i in range (0, 10): \n",
    "    idxs = (np.where(np.transpose(labels) == i)) \n",
    "    idxs = idxs[0]\n",
    "    holder = np.zeros(3072)\n",
    "#     print(idxs)\n",
    "    l = len((idxs)) \n",
    "    for x in range (0,l):  \n",
    "#         print(data[(idxs[x]),:])\n",
    "        holder = holder + data[(idxs[x]),:]\n",
    "    holder = holder / l\n",
    "    mean[i,:] = holder\n",
    "    print(holder)"
   ]
  },
  {
   "cell_type": "code",
   "execution_count": 113,
   "metadata": {},
   "outputs": [
    {
     "name": "stdout",
     "output_type": "stream",
     "text": [
      "(3072L,)\n",
      "(3072L,)\n",
      "(3072L,)\n"
     ]
    },
    {
     "ename": "IndexError",
     "evalue": "index 2 is out of bounds for axis 0 with size 2",
     "output_type": "error",
     "traceback": [
      "\u001b[1;31m\u001b[0m",
      "\u001b[1;31mIndexError\u001b[0mTraceback (most recent call last)",
      "\u001b[1;32m<ipython-input-113-02d1c9bf4687>\u001b[0m in \u001b[0;36m<module>\u001b[1;34m()\u001b[0m\n\u001b[0;32m     12\u001b[0m     \u001b[1;32mfor\u001b[0m \u001b[0mx\u001b[0m \u001b[1;32min\u001b[0m \u001b[0mrange\u001b[0m \u001b[1;33m(\u001b[0m\u001b[1;36m0\u001b[0m\u001b[1;33m,\u001b[0m\u001b[0ml\u001b[0m\u001b[1;33m)\u001b[0m\u001b[1;33m:\u001b[0m\u001b[1;33m\u001b[0m\u001b[0m\n\u001b[0;32m     13\u001b[0m \u001b[1;31m#         print(np.shape(data))\u001b[0m\u001b[1;33m\u001b[0m\u001b[1;33m\u001b[0m\u001b[0m\n\u001b[1;32m---> 14\u001b[1;33m         \u001b[1;32mprint\u001b[0m\u001b[1;33m(\u001b[0m\u001b[0mnp\u001b[0m\u001b[1;33m.\u001b[0m\u001b[0mshape\u001b[0m\u001b[1;33m(\u001b[0m\u001b[0mdata\u001b[0m\u001b[1;33m[\u001b[0m\u001b[1;33m(\u001b[0m\u001b[0mnp\u001b[0m\u001b[1;33m.\u001b[0m\u001b[0mtranspose\u001b[0m\u001b[1;33m(\u001b[0m\u001b[0midxs\u001b[0m\u001b[1;33m)\u001b[0m\u001b[1;33m[\u001b[0m\u001b[1;36m0\u001b[0m\u001b[1;33m]\u001b[0m\u001b[1;33m[\u001b[0m\u001b[0mx\u001b[0m\u001b[1;33m]\u001b[0m\u001b[1;33m)\u001b[0m\u001b[1;33m]\u001b[0m\u001b[1;33m)\u001b[0m\u001b[1;33m)\u001b[0m\u001b[1;33m\u001b[0m\u001b[0m\n\u001b[0m\u001b[0;32m     15\u001b[0m         \u001b[0mholder\u001b[0m \u001b[1;33m=\u001b[0m \u001b[0mholder\u001b[0m \u001b[1;33m+\u001b[0m \u001b[0mdata\u001b[0m\u001b[1;33m[\u001b[0m\u001b[0mnp\u001b[0m\u001b[1;33m.\u001b[0m\u001b[0mtranspose\u001b[0m\u001b[1;33m(\u001b[0m\u001b[0midxs\u001b[0m\u001b[1;33m[\u001b[0m\u001b[1;36m0\u001b[0m\u001b[1;33m]\u001b[0m\u001b[1;33m)\u001b[0m\u001b[1;33m[\u001b[0m\u001b[0mx\u001b[0m\u001b[1;33m]\u001b[0m\u001b[1;33m,\u001b[0m\u001b[1;33m:\u001b[0m\u001b[1;33m]\u001b[0m\u001b[1;33m\u001b[0m\u001b[0m\n\u001b[0;32m     16\u001b[0m     \u001b[0mholder\u001b[0m \u001b[1;33m=\u001b[0m \u001b[0mholder\u001b[0m \u001b[1;33m/\u001b[0m \u001b[0ml\u001b[0m\u001b[1;33m\u001b[0m\u001b[0m\n",
      "\u001b[1;31mIndexError\u001b[0m: index 2 is out of bounds for axis 0 with size 2"
     ]
    }
   ],
   "source": [
    "# compute mean for each category  \n",
    "# go through all the ves of eaxch category and find the mean image of that category  \n",
    "\n",
    "# find  indexes of each category \n",
    "holder = np.zeros(3072)\n",
    "mean = np.zeros((10,3072))\n",
    "print(holder.shape)\n",
    "for i in range (0, 10): \n",
    "    idxs = (np.where(np.transpose(labels) == i)) \n",
    "    holder = np.zeros(3072)\n",
    "    l = len(np.transpose(idxs[0])) \n",
    "    for x in range (0,l):  \n",
    "#         print(np.shape(data))\n",
    "        print(np.shape(data[(np.transpose(idxs)[0][x])]))\n",
    "        holder = holder + data[np.transpose(idxs[0])[x],:] \n",
    "    holder = holder / l\n",
    "    mean[i,:] = holder\n",
    "print(((np.transpose(idxs)[3,0])))\n",
    "print(len(mean[2])) \n",
    "print(len(data[1002]))"
   ]
  },
  {
   "cell_type": "code",
   "execution_count": 2,
   "metadata": {},
   "outputs": [
    {
     "name": "stdout",
     "output_type": "stream",
     "text": [
      "((3072L,), (3072L, 3072L), (10000L, 3072L))\n",
      "(64.39060047846118, 64.39060047846118, 4.146348132862879e-13)\n"
     ]
    }
   ],
   "source": [
    "# running SVD to GET PCA\n",
    "P, D, Q = np.linalg.svd(data, full_matrices=False)\n",
    "print(np.shape(D),np.shape(Q),np.shape(P))\n",
    "Recon_data = np.matmul(np.matmul(P, np.diag(D)), Q)\n",
    "print(np.std(data), np.std(Recon_data), np.std(data - Recon_data))"
   ]
  },
  {
   "cell_type": "code",
   "execution_count": 41,
   "metadata": {},
   "outputs": [
    {
     "name": "stdout",
     "output_type": "stream",
     "text": [
      "(3072L,)\n",
      "981\n",
      "3072\n",
      "3072\n"
     ]
    }
   ],
   "source": [
    "# go through all the ves of eaxch category and find the mean image of that category  \n",
    "\n",
    "# find  indexes of each category \n",
    "holder = np.zeros(3072)\n",
    "mean = np.zeros((10,3072))\n",
    "print(holder.shape)\n",
    "for i in range (0, 10): \n",
    "    idxs = (np.where(np.transpose(labels) == i)) \n",
    "    holder = np.zeros(3072)\n",
    "    l = len(np.transpose(idxs)) \n",
    "    for x in range (0,l):  \n",
    "#         print(np.shape(data))\n",
    "#         print(np.shape(data[np.transpose(idxs)[x]]))\n",
    "        holder = holder + data[np.transpose(idxs)[x],:] \n",
    "    holder = holder / l\n",
    "    mean[i,:] = holder\n",
    "print(len(np.transpose(idxs)))\n",
    "print(len(mean[2])) \n",
    "print(len(data[1002]))"
   ]
  },
  {
   "cell_type": "code",
   "execution_count": 59,
   "metadata": {},
   "outputs": [
    {
     "name": "stdout",
     "output_type": "stream",
     "text": [
      "3072\n",
      "1.4551915228366853e-15\n",
      "(10000L, 3072L)\n"
     ]
    }
   ],
   "source": [
    "# center data  \n",
    "scaled_data = np.zeros((10000,3072)) \n",
    "for i in range(0,10000): \n",
    "    idx = labels[i]\n",
    "    scaled_data[i] = (data[i] - mean[idx])\n",
    "print(len(scaled_data[0])) \n",
    "# print(mean[:,100])\n",
    "print(np.mean(scaled_data[:,99])) \n",
    "print(np.shape(scaled_data))"
   ]
  },
  {
   "cell_type": "code",
   "execution_count": 54,
   "metadata": {},
   "outputs": [],
   "source": [
    "# now that i have the scaled i want to take the pc of the 20 comps of the scaled data  \n",
    "# mean is added according to category  \n",
    "covmat = cov((scaled_data.T))\n",
    "eigvals,eigvecs = eig(covmat)  \n",
    "# sorting all g,b,r eigenvectros \n",
    "idx = eigvals.argsort()[::-1]   \n",
    "e = eigvals[idx]\n",
    "ev = eigvecs[:,idx] "
   ]
  },
  {
   "cell_type": "code",
   "execution_count": 63,
   "metadata": {},
   "outputs": [
    {
     "name": "stdout",
     "output_type": "stream",
     "text": [
      "(10000L, 20L)\n",
      "(10000L, 3072L)\n"
     ]
    }
   ],
   "source": [
    "# print(np.shape(e),np.shape(ev)) \n",
    "# now project the data into 20 comps over the whole dataset \n",
    "# now do we need to add each mean of each category or over the whole dataset \n",
    "proj = np.dot(scaled_data,ev[:,:20])\n",
    "print(np.shape(proj))\n",
    "recon = np.dot(proj,np.transpose(ev[:,:20])) + mean[1][:]  \n",
    "print(np.shape(recon))\n"
   ]
  },
  {
   "cell_type": "code",
   "execution_count": null,
   "metadata": {},
   "outputs": [],
   "source": [
    "# next is to calc the MSE over the each subset where idx = [0...9]"
   ]
  },
  {
   "cell_type": "code",
   "execution_count": 5,
   "metadata": {},
   "outputs": [
    {
     "name": "stdout",
     "output_type": "stream",
     "text": [
      "3072\n",
      "(999L, 3072L)\n"
     ]
    },
    {
     "data": {
      "text/plain": [
       "3.641620427519232e-15"
      ]
     },
     "execution_count": 5,
     "metadata": {},
     "output_type": "execute_result"
    }
   ],
   "source": [
    "#split matrix by each category and plot the error of each \n",
    "idxs = (np.where(np.transpose(labels) == 4)) \n",
    "l,w = np.shape(np.transpose(idxs)) \n",
    "# print(idxs)\n",
    "hold = np.zeros((l,3072))\n",
    "for i in range (0,l): \n",
    "    holder[i] = scaled_data[np.transpose(idxs)[i]]\n",
    "    \n",
    "# first thing is to split data by category\n",
    "# scaled_data = scaled_data.astype(int)\n",
    "# holder = holder.astype(int)\n",
    "print(len(scaled_data[4]))\n",
    "print(holder.shape) \n",
    "np.mean(holder[:,3071]) # to make sure that we will get 0 mean\n"
   ]
  },
  {
   "cell_type": "code",
   "execution_count": 69,
   "metadata": {},
   "outputs": [
    {
     "name": "stdout",
     "output_type": "stream",
     "text": [
      "((1L, 1024L), (1L, 1024L), (1L, 1024L))\n"
     ]
    },
    {
     "name": "stderr",
     "output_type": "stream",
     "text": [
      "C:\\Users\\me89611\\AppData\\Local\\Continuum\\anaconda2\\lib\\site-packages\\ipykernel_launcher.py:9: RuntimeWarning: Degrees of freedom <= 0 for slice\n",
      "  if __name__ == '__main__':\n",
      "C:\\Users\\me89611\\AppData\\Local\\Continuum\\anaconda2\\lib\\site-packages\\numpy\\lib\\function_base.py:3109: RuntimeWarning: divide by zero encountered in double_scalars\n",
      "  c *= 1. / np.float64(fact)\n",
      "C:\\Users\\me89611\\AppData\\Local\\Continuum\\anaconda2\\lib\\site-packages\\numpy\\lib\\function_base.py:3109: RuntimeWarning: invalid value encountered in multiply\n",
      "  c *= 1. / np.float64(fact)\n"
     ]
    },
    {
     "ename": "LinAlgError",
     "evalue": "Array must not contain infs or NaNs",
     "output_type": "error",
     "traceback": [
      "\u001b[1;31m\u001b[0m",
      "\u001b[1;31mLinAlgError\u001b[0mTraceback (most recent call last)",
      "\u001b[1;32m<ipython-input-69-23a8648afd03>\u001b[0m in \u001b[0;36m<module>\u001b[1;34m()\u001b[0m\n\u001b[0;32m      8\u001b[0m \u001b[1;33m\u001b[0m\u001b[0m\n\u001b[0;32m      9\u001b[0m \u001b[0mcovmat_r\u001b[0m \u001b[1;33m=\u001b[0m \u001b[0mcov\u001b[0m\u001b[1;33m(\u001b[0m\u001b[1;33m(\u001b[0m\u001b[0mr\u001b[0m\u001b[1;33m.\u001b[0m\u001b[0mT\u001b[0m\u001b[1;33m)\u001b[0m\u001b[1;33m)\u001b[0m\u001b[1;33m\u001b[0m\u001b[0m\n\u001b[1;32m---> 10\u001b[1;33m \u001b[0meigvals_r\u001b[0m\u001b[1;33m,\u001b[0m\u001b[0meigvecs_r\u001b[0m \u001b[1;33m=\u001b[0m \u001b[0meig\u001b[0m\u001b[1;33m(\u001b[0m\u001b[0mcovmat_r\u001b[0m\u001b[1;33m)\u001b[0m\u001b[1;33m\u001b[0m\u001b[0m\n\u001b[0m\u001b[0;32m     11\u001b[0m \u001b[0mcovmat_g\u001b[0m \u001b[1;33m=\u001b[0m \u001b[0mcov\u001b[0m\u001b[1;33m(\u001b[0m\u001b[1;33m(\u001b[0m\u001b[0mg\u001b[0m\u001b[1;33m.\u001b[0m\u001b[0mT\u001b[0m\u001b[1;33m)\u001b[0m\u001b[1;33m)\u001b[0m\u001b[1;33m\u001b[0m\u001b[0m\n\u001b[0;32m     12\u001b[0m \u001b[0meigvals_g\u001b[0m\u001b[1;33m,\u001b[0m\u001b[0meigvecs_g\u001b[0m \u001b[1;33m=\u001b[0m \u001b[0meig\u001b[0m\u001b[1;33m(\u001b[0m\u001b[0mcovmat_g\u001b[0m\u001b[1;33m)\u001b[0m\u001b[1;33m\u001b[0m\u001b[0m\n",
      "\u001b[1;32mC:\\Users\\me89611\\AppData\\Local\\Continuum\\anaconda2\\lib\\site-packages\\numpy\\linalg\\linalg.pyc\u001b[0m in \u001b[0;36meig\u001b[1;34m(a)\u001b[0m\n\u001b[0;32m   1141\u001b[0m     \u001b[0m_assertRankAtLeast2\u001b[0m\u001b[1;33m(\u001b[0m\u001b[0ma\u001b[0m\u001b[1;33m)\u001b[0m\u001b[1;33m\u001b[0m\u001b[0m\n\u001b[0;32m   1142\u001b[0m     \u001b[0m_assertNdSquareness\u001b[0m\u001b[1;33m(\u001b[0m\u001b[0ma\u001b[0m\u001b[1;33m)\u001b[0m\u001b[1;33m\u001b[0m\u001b[0m\n\u001b[1;32m-> 1143\u001b[1;33m     \u001b[0m_assertFinite\u001b[0m\u001b[1;33m(\u001b[0m\u001b[0ma\u001b[0m\u001b[1;33m)\u001b[0m\u001b[1;33m\u001b[0m\u001b[0m\n\u001b[0m\u001b[0;32m   1144\u001b[0m     \u001b[0mt\u001b[0m\u001b[1;33m,\u001b[0m \u001b[0mresult_t\u001b[0m \u001b[1;33m=\u001b[0m \u001b[0m_commonType\u001b[0m\u001b[1;33m(\u001b[0m\u001b[0ma\u001b[0m\u001b[1;33m)\u001b[0m\u001b[1;33m\u001b[0m\u001b[0m\n\u001b[0;32m   1145\u001b[0m \u001b[1;33m\u001b[0m\u001b[0m\n",
      "\u001b[1;32mC:\\Users\\me89611\\AppData\\Local\\Continuum\\anaconda2\\lib\\site-packages\\numpy\\linalg\\linalg.pyc\u001b[0m in \u001b[0;36m_assertFinite\u001b[1;34m(*arrays)\u001b[0m\n\u001b[0;32m    214\u001b[0m     \u001b[1;32mfor\u001b[0m \u001b[0ma\u001b[0m \u001b[1;32min\u001b[0m \u001b[0marrays\u001b[0m\u001b[1;33m:\u001b[0m\u001b[1;33m\u001b[0m\u001b[0m\n\u001b[0;32m    215\u001b[0m         \u001b[1;32mif\u001b[0m \u001b[1;32mnot\u001b[0m \u001b[1;33m(\u001b[0m\u001b[0misfinite\u001b[0m\u001b[1;33m(\u001b[0m\u001b[0ma\u001b[0m\u001b[1;33m)\u001b[0m\u001b[1;33m.\u001b[0m\u001b[0mall\u001b[0m\u001b[1;33m(\u001b[0m\u001b[1;33m)\u001b[0m\u001b[1;33m)\u001b[0m\u001b[1;33m:\u001b[0m\u001b[1;33m\u001b[0m\u001b[0m\n\u001b[1;32m--> 216\u001b[1;33m             \u001b[1;32mraise\u001b[0m \u001b[0mLinAlgError\u001b[0m\u001b[1;33m(\u001b[0m\u001b[1;34m\"Array must not contain infs or NaNs\"\u001b[0m\u001b[1;33m)\u001b[0m\u001b[1;33m\u001b[0m\u001b[0m\n\u001b[0m\u001b[0;32m    217\u001b[0m \u001b[1;33m\u001b[0m\u001b[0m\n\u001b[0;32m    218\u001b[0m \u001b[1;32mdef\u001b[0m \u001b[0m_isEmpty2d\u001b[0m\u001b[1;33m(\u001b[0m\u001b[0marr\u001b[0m\u001b[1;33m)\u001b[0m\u001b[1;33m:\u001b[0m\u001b[1;33m\u001b[0m\u001b[0m\n",
      "\u001b[1;31mLinAlgError\u001b[0m: Array must not contain infs or NaNs"
     ]
    }
   ],
   "source": [
    "# split vector into r,g,b chaneels so 3 matrices of m*1024; \n",
    "from numpy.linalg import eig\n",
    "from numpy import cov\n",
    "r = holder[:,:1024] \n",
    "g = holder[:,1024:2048]\n",
    "b = holder [:,2048:]\n",
    "print(r.shape,g.shape ,b.shape) # now it splitted   \n",
    "\n",
    "covmat_r = cov((r.T))\n",
    "eigvals_r,eigvecs_r = eig(covmat_r)  \n",
    "covmat_g = cov((g.T))\n",
    "eigvals_g,eigvecs_g = eig(covmat_g)  \n",
    "covmat_b = cov((b.T))\n",
    "eigvals_b,eigvecs_b = eig(covmat_b)  \n",
    "print(np.shape(covmat_r),np.shape(eigvecs_r),np.shape(eigvals_r) )\n",
    "\n",
    "print(np.shape(covmat_g),np.shape(eigvecs_g),np.shape(eigvals_g) )\n",
    "\n",
    "print(np.shape(covmat_b),np.shape(eigvecs_b),np.shape(eigvals_b) )"
   ]
  },
  {
   "cell_type": "code",
   "execution_count": 18,
   "metadata": {},
   "outputs": [
    {
     "name": "stdout",
     "output_type": "stream",
     "text": [
      "[ 1.22159312e+06+0.00000000e+00j  4.00272964e+05+0.00000000e+00j\n",
      "  1.30687278e+05+0.00000000e+00j ... -3.16582110e-12-8.84185203e-13j\n",
      " -3.28953412e-12+2.37939183e-12j -3.28953412e-12-2.37939183e-12j]\n"
     ]
    }
   ],
   "source": [
    "# sorting all g,b,r eigenvectros \n",
    "idxr = eigvals_r.argsort()[::-1]   \n",
    "e_r = eigvals_r[idxr]\n",
    "ev_r = eigvecs_r[:,idxr] \n",
    "idxg = eigvals_g.argsort()[::-1]   \n",
    "e_g = eigvals_g[idxg]\n",
    "ev_g = eigvecs_g[:,idxg]\n",
    "idxb = eigvals_b.argsort()[::-1]   \n",
    "r_b = eigvals_b[idxb]\n",
    "ev_b = eigvecs_b[:,idxb]"
   ]
  },
  {
   "cell_type": "code",
   "execution_count": 35,
   "metadata": {},
   "outputs": [
    {
     "name": "stdout",
     "output_type": "stream",
     "text": [
      "[[113.41319073]\n",
      " [106.91156791]\n",
      " [111.47522743]\n",
      " [139.30755793]\n",
      " [124.83633489]\n",
      " [127.77917919]]\n"
     ]
    },
    {
     "name": "stderr",
     "output_type": "stream",
     "text": [
      "C:\\Users\\me89611\\AppData\\Local\\Continuum\\anaconda2\\lib\\site-packages\\ipykernel_launcher.py:13: ComplexWarning: Casting complex values to real discards the imaginary part\n",
      "  del sys.path[0]\n",
      "C:\\Users\\me89611\\AppData\\Local\\Continuum\\anaconda2\\lib\\site-packages\\ipykernel_launcher.py:14: ComplexWarning: Casting complex values to real discards the imaginary part\n",
      "  \n",
      "C:\\Users\\me89611\\AppData\\Local\\Continuum\\anaconda2\\lib\\site-packages\\ipykernel_launcher.py:15: ComplexWarning: Casting complex values to real discards the imaginary part\n",
      "  from ipykernel import kernelapp as app\n"
     ]
    }
   ],
   "source": [
    "# pca using first 20 comps over the three channels\n",
    "# red channel \n",
    "l,w = np.shape(r)\n",
    "img_recon = np.zeros((l,3072))\n",
    "projr = np.dot(r,ev_r[:,:20])\n",
    "reconr = np.dot(projr,np.transpose(ev_r[:,:20])) + mean[1][:1024]  \n",
    "# green chaneel\n",
    "projg = np.dot(g,ev_g[:,:20])\n",
    "recong = np.dot(projg,np.transpose(ev_g[:,:20])) + mean[1][1024:2048]  \n",
    "# blue channel\n",
    "projb = np.dot(b,ev_b[:,:20])\n",
    "reconb = np.dot(projb,np.transpose(ev_b[:,:20])) + mean[1][2048:]  \n",
    "img_recon[:,:1024] = reconr \n",
    "img_recon[:,1024:2048] = recong \n",
    "img_recon[:,2048:] = reconb\n",
    "print(img_recon[199:205,100:101])"
   ]
  },
  {
   "cell_type": "code",
   "execution_count": 25,
   "metadata": {},
   "outputs": [
    {
     "ename": "TypeError",
     "evalue": "only integer scalar arrays can be converted to a scalar index",
     "output_type": "error",
     "traceback": [
      "\u001b[1;31m\u001b[0m",
      "\u001b[1;31mTypeError\u001b[0mTraceback (most recent call last)",
      "\u001b[1;32m<ipython-input-25-9a1b1a6178c8>\u001b[0m in \u001b[0;36m<module>\u001b[1;34m()\u001b[0m\n\u001b[0;32m      2\u001b[0m \u001b[1;31m#  mse_n1 = ((ndata - recn2) ** 2).mean(axis = 0)\u001b[0m\u001b[1;33m\u001b[0m\u001b[1;33m\u001b[0m\u001b[0m\n\u001b[0;32m      3\u001b[0m \u001b[1;31m# print(' mse using noisless comps ' , i, np.mean(mse_n1))\u001b[0m\u001b[1;33m\u001b[0m\u001b[1;33m\u001b[0m\u001b[0m\n\u001b[1;32m----> 4\u001b[1;33m \u001b[0mnp\u001b[0m\u001b[1;33m.\u001b[0m\u001b[0mconcatenate\u001b[0m\u001b[1;33m(\u001b[0m\u001b[0mreconr\u001b[0m\u001b[1;33m,\u001b[0m\u001b[0mrecong\u001b[0m\u001b[1;33m,\u001b[0m\u001b[0mreconb\u001b[0m\u001b[1;33m)\u001b[0m\u001b[1;33m\u001b[0m\u001b[0m\n\u001b[0m",
      "\u001b[1;31mTypeError\u001b[0m: only integer scalar arrays can be converted to a scalar index"
     ]
    }
   ],
   "source": [
    "# calulating the MSE OVER each category  \n",
    " mse_n1 = ((ndata - img_recon) ** 2).mean(axis = 0)\n",
    "# print(' mse using noisless comps ' , i, np.mean(mse_n1))  \n"
   ]
  },
  {
   "cell_type": "code",
   "execution_count": 78,
   "metadata": {},
   "outputs": [
    {
     "name": "stdout",
     "output_type": "stream",
     "text": [
      "(10L, 10L)\n",
      "(10L,)\n",
      "(10L, 10L)\n"
     ]
    }
   ],
   "source": [
    "ten = np.zeros((10,3072)) \n",
    "ten = cov(ten) \n",
    "print(ten.shape)\n",
    "ten, tenn = eig(ten)\n",
    "print(ten.shape)\n",
    "print(tenn.shape)\n",
    "\n"
   ]
  }
 ],
 "metadata": {
  "kernelspec": {
   "display_name": "Python 2",
   "language": "python",
   "name": "python2"
  },
  "language_info": {
   "codemirror_mode": {
    "name": "ipython",
    "version": 2
   },
   "file_extension": ".py",
   "mimetype": "text/x-python",
   "name": "python",
   "nbconvert_exporter": "python",
   "pygments_lexer": "ipython2",
   "version": "2.7.15"
  }
 },
 "nbformat": 4,
 "nbformat_minor": 2
}
